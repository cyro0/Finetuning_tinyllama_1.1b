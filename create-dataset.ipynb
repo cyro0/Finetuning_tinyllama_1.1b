{
 "cells": [
  {
   "cell_type": "markdown",
   "id": "e82dfda5-dec4-431e-96f2-ccccd98e9b24",
   "metadata": {},
   "source": [
    "# Creating HF Dataset for Mistral Fine-tuning\n",
    "\n",
    "Code authored by: Shaw Talebi <br>\n",
    "Video link: https://youtu.be/XpoKB3usmKc <br>\n",
    "Blog link: https://medium.com/towards-data-science/qlora-how-to-fine-tune-an-llm-on-a-single-gpu-4e44d6b5be32 <br>\n",
    "<br>\n",
    "Colab link: https://colab.research.google.com/drive/1AErkPgDderPW0dgE230OOjEysd0QV1sR?usp=sharing <br>\n",
    "Dataset link: https://huggingface.co/datasets/shawhin/shawgpt-youtube-comments <br>\n",
    "Model link: https://huggingface.co/shawhin/shawgpt-ft"
   ]
  },
  {
   "cell_type": "code",
   "execution_count": 3,
   "id": "32125c58-b985-4083-9431-ce5ae3d35b0d",
   "metadata": {},
   "outputs": [],
   "source": [
    "import csv\n",
    "import random\n",
    "from datasets import Dataset, DatasetDict"
   ]
  },
  {
   "cell_type": "markdown",
   "id": "f6dbd38c-9f4f-4697-9ea0-e52c2912c45b",
   "metadata": {},
   "source": [
    "### prep training examples"
   ]
  },
  {
   "cell_type": "code",
   "execution_count": 5,
   "id": "bdaaa4fa-7550-40e6-bd4a-83250b6783cd",
   "metadata": {},
   "outputs": [
    {
     "ename": "UnicodeDecodeError",
     "evalue": "'charmap' codec can't decode byte 0x9d in position 3959: character maps to <undefined>",
     "output_type": "error",
     "traceback": [
      "\u001b[1;31m---------------------------------------------------------------------------\u001b[0m",
      "\u001b[1;31mUnicodeDecodeError\u001b[0m                        Traceback (most recent call last)",
      "Cell \u001b[1;32mIn[5], line 9\u001b[0m\n\u001b[0;32m      6\u001b[0m file \u001b[38;5;241m=\u001b[39m csv\u001b[38;5;241m.\u001b[39mreader(file)\n\u001b[0;32m      8\u001b[0m \u001b[38;5;66;03m# read file line by line\u001b[39;00m\n\u001b[1;32m----> 9\u001b[0m \u001b[38;5;28;01mfor\u001b[39;00m line \u001b[38;5;129;01min\u001b[39;00m file:\n\u001b[0;32m     10\u001b[0m     \u001b[38;5;66;03m# skip first line\u001b[39;00m\n\u001b[0;32m     11\u001b[0m     \u001b[38;5;28;01mif\u001b[39;00m line[\u001b[38;5;241m0\u001b[39m]\u001b[38;5;241m==\u001b[39m\u001b[38;5;124m'\u001b[39m\u001b[38;5;124mComment\u001b[39m\u001b[38;5;124m'\u001b[39m:\n\u001b[0;32m     12\u001b[0m         \u001b[38;5;28;01mcontinue\u001b[39;00m\n",
      "File \u001b[1;32mc:\\Python310\\lib\\encodings\\cp1252.py:23\u001b[0m, in \u001b[0;36mIncrementalDecoder.decode\u001b[1;34m(self, input, final)\u001b[0m\n\u001b[0;32m     22\u001b[0m \u001b[38;5;28;01mdef\u001b[39;00m \u001b[38;5;21mdecode\u001b[39m(\u001b[38;5;28mself\u001b[39m, \u001b[38;5;28minput\u001b[39m, final\u001b[38;5;241m=\u001b[39m\u001b[38;5;28;01mFalse\u001b[39;00m):\n\u001b[1;32m---> 23\u001b[0m     \u001b[38;5;28;01mreturn\u001b[39;00m \u001b[43mcodecs\u001b[49m\u001b[38;5;241;43m.\u001b[39;49m\u001b[43mcharmap_decode\u001b[49m\u001b[43m(\u001b[49m\u001b[38;5;28;43minput\u001b[39;49m\u001b[43m,\u001b[49m\u001b[38;5;28;43mself\u001b[39;49m\u001b[38;5;241;43m.\u001b[39;49m\u001b[43merrors\u001b[49m\u001b[43m,\u001b[49m\u001b[43mdecoding_table\u001b[49m\u001b[43m)\u001b[49m[\u001b[38;5;241m0\u001b[39m]\n",
      "\u001b[1;31mUnicodeDecodeError\u001b[0m: 'charmap' codec can't decode byte 0x9d in position 3959: character maps to <undefined>"
     ]
    }
   ],
   "source": [
    "# load csv of YouTube comments\n",
    "comment_list = []\n",
    "response_list = []\n",
    "\n",
    "with open('data/YT-comments.csv', mode ='r') as file:\n",
    "    file = csv.reader(file)\n",
    "    \n",
    "    # read file line by line\n",
    "    for line in file:\n",
    "        # skip first line\n",
    "        if line[0]=='Comment':\n",
    "            continue\n",
    "            \n",
    "        # append comments and responses to respective lists\n",
    "        comment_list.append(line[0])\n",
    "        response_list.append(line[1] + \" -ShawGPT\")"
   ]
  },
  {
   "cell_type": "code",
   "execution_count": null,
   "id": "5e327ecb-6421-4040-9113-e591fc81c696",
   "metadata": {},
   "outputs": [],
   "source": [
    "# attempt 1 at prompt format\n",
    "# intstructions_string = f\"\"\"ShawGPT, functioning as a virtual data science consultant on YouTube, communicates in clear, accessible language, escalating to technical depth upon request. \\\n",
    "# It reacts to feedback aptly and ends responses with its signature '–ShawGPT'. \\\n",
    "# ShawGPT will tailor the length of its responses to match the viewer's comment, providing concise acknowledgments to brief expressions of gratitude or feedback, \\\n",
    "# thus keeping the interaction natural and engaging.\n",
    "# \"\"\"\n",
    "\n",
    "# example_template = lambda comment, response: f'''<s>[INST] {intstructions_string} \\nViewer: {comment} \\nShawGPT: [/INST]''' + response + \"</s>\"\n",
    "\n",
    "# example_list = []\n",
    "# for i in range(len(comment_list)):\n",
    "#     example = example_template(comment_list[i],response_list[i])\n",
    "#     example_list.append(example)\n",
    "\n",
    "# print(example_list[10])"
   ]
  },
  {
   "cell_type": "code",
   "execution_count": 7,
   "id": "fd6a8d1c-be84-40c9-ad2b-52ecc2c54b11",
   "metadata": {},
   "outputs": [
    {
     "ename": "IndexError",
     "evalue": "list index out of range",
     "output_type": "error",
     "traceback": [
      "\u001b[1;31m---------------------------------------------------------------------------\u001b[0m",
      "\u001b[1;31mIndexError\u001b[0m                                Traceback (most recent call last)",
      "Cell \u001b[1;32mIn[7], line 17\u001b[0m\n\u001b[0;32m     14\u001b[0m     example \u001b[38;5;241m=\u001b[39m example_template(comment_list[i],response_list[i])\n\u001b[0;32m     15\u001b[0m     example_list\u001b[38;5;241m.\u001b[39mappend(example)\n\u001b[1;32m---> 17\u001b[0m \u001b[38;5;28mprint\u001b[39m(\u001b[43mexample_list\u001b[49m\u001b[43m[\u001b[49m\u001b[38;5;241;43m10\u001b[39;49m\u001b[43m]\u001b[49m)\n",
      "\u001b[1;31mIndexError\u001b[0m: list index out of range"
     ]
    }
   ],
   "source": [
    "# attempt 2 at prompt format\n",
    "intstructions_string = f\"\"\"ShawGPT, functioning as a virtual data science consultant on YouTube, communicates in clear, accessible language, escalating to technical depth upon request. \\\n",
    "It reacts to feedback aptly and ends responses with its signature '–ShawGPT'. \\\n",
    "ShawGPT will tailor the length of its responses to match the viewer's comment, providing concise acknowledgments to brief expressions of gratitude or feedback, \\\n",
    "thus keeping the interaction natural and engaging.\n",
    "\n",
    "Please respond to the following comment.\n",
    "\"\"\"\n",
    "\n",
    "example_template = lambda comment, response: f'''<s>[INST] {intstructions_string} \\n{comment} \\n[/INST]\\n''' + response + \"</s>\"\n",
    "\n",
    "example_list = []\n",
    "for i in range(len(comment_list)):\n",
    "    example = example_template(comment_list[i],response_list[i])\n",
    "    example_list.append(example)\n",
    "\n",
    "print(example_list[10])"
   ]
  },
  {
   "cell_type": "code",
   "execution_count": 6,
   "id": "c2806b44-2b2d-4a60-bb53-635bbb563f6c",
   "metadata": {},
   "outputs": [
    {
     "ename": "NameError",
     "evalue": "name 'example_list' is not defined",
     "output_type": "error",
     "traceback": [
      "\u001b[1;31m---------------------------------------------------------------------------\u001b[0m",
      "\u001b[1;31mNameError\u001b[0m                                 Traceback (most recent call last)",
      "Cell \u001b[1;32mIn[6], line 2\u001b[0m\n\u001b[0;32m      1\u001b[0m \u001b[38;5;66;03m# create train/test split\u001b[39;00m\n\u001b[1;32m----> 2\u001b[0m test_index_list \u001b[38;5;241m=\u001b[39m random\u001b[38;5;241m.\u001b[39msample(\u001b[38;5;28mrange\u001b[39m(\u001b[38;5;241m0\u001b[39m, \u001b[38;5;28mlen\u001b[39m(\u001b[43mexample_list\u001b[49m)\u001b[38;5;241m-\u001b[39m\u001b[38;5;241m1\u001b[39m), \u001b[38;5;241m9\u001b[39m)\n\u001b[0;32m      4\u001b[0m test_list \u001b[38;5;241m=\u001b[39m [example_list[index] \u001b[38;5;28;01mfor\u001b[39;00m index \u001b[38;5;129;01min\u001b[39;00m test_index_list]\n\u001b[0;32m      6\u001b[0m \u001b[38;5;28;01mfor\u001b[39;00m example \u001b[38;5;129;01min\u001b[39;00m test_list:\n",
      "\u001b[1;31mNameError\u001b[0m: name 'example_list' is not defined"
     ]
    }
   ],
   "source": [
    "# create train/test split\n",
    "test_index_list = random.sample(range(0, len(example_list)-1), 9)\n",
    "\n",
    "test_list = [example_list[index] for index in test_index_list]\n",
    "\n",
    "for example in test_list:\n",
    "    example_list.remove(example)"
   ]
  },
  {
   "cell_type": "markdown",
   "id": "931860be-fbd2-48cd-9d62-382981476c6e",
   "metadata": {},
   "source": [
    "### create HF dataest"
   ]
  },
  {
   "cell_type": "code",
   "execution_count": null,
   "id": "9fa95664-1ea8-4296-aea0-1bdb2f9d37e4",
   "metadata": {},
   "outputs": [],
   "source": [
    "data = DatasetDict({'train':Dataset.from_dict({\"example\":example_list}), 'test':Dataset.from_dict({\"example\":test_list})})"
   ]
  },
  {
   "cell_type": "code",
   "execution_count": null,
   "id": "a586cfe4-7206-4f27-9c55-6e120bfed587",
   "metadata": {},
   "outputs": [
    {
     "data": {
      "text/plain": [
       "DatasetDict({\n",
       "    train: Dataset({\n",
       "        features: ['example'],\n",
       "        num_rows: 50\n",
       "    })\n",
       "    test: Dataset({\n",
       "        features: ['example'],\n",
       "        num_rows: 9\n",
       "    })\n",
       "})"
      ]
     },
     "execution_count": 8,
     "metadata": {},
     "output_type": "execute_result"
    }
   ],
   "source": [
    "data"
   ]
  },
  {
   "cell_type": "markdown",
   "id": "07acbcf3-f71a-4180-9148-067bc4a01af2",
   "metadata": {},
   "source": [
    "### push dataset to hub"
   ]
  },
  {
   "cell_type": "code",
   "execution_count": null,
   "id": "237d6a3e-74c0-4f36-8f3d-20a2cc1e9536",
   "metadata": {},
   "outputs": [
    {
     "data": {
      "application/vnd.jupyter.widget-view+json": {
       "model_id": "fbc880849841493383b2761944b8df2c",
       "version_major": 2,
       "version_minor": 0
      },
      "text/plain": [
       "VBox(children=(HTML(value='<center> <img\\nsrc=https://huggingface.co/front/assets/huggingface_logo-noborder.sv…"
      ]
     },
     "metadata": {},
     "output_type": "display_data"
    }
   ],
   "source": [
    "# option 1: notebook login\n",
    "from huggingface_hub import notebook_login\n",
    "notebook_login()\n",
    "\n",
    "# # option 2: key login\n",
    "# from huggingface_hub import login\n",
    "# write_key = 'hf_' # paste token here\n",
    "# login(write_key)"
   ]
  },
  {
   "cell_type": "code",
   "execution_count": null,
   "id": "bebbecf7-5603-4ba4-8cf9-8160af5df57f",
   "metadata": {},
   "outputs": [
    {
     "data": {
      "application/vnd.jupyter.widget-view+json": {
       "model_id": "3120aebadc7944ea9365a79aecee5f79",
       "version_major": 2,
       "version_minor": 0
      },
      "text/plain": [
       "Uploading the dataset shards:   0%|          | 0/1 [00:00<?, ?it/s]"
      ]
     },
     "metadata": {},
     "output_type": "display_data"
    },
    {
     "data": {
      "application/vnd.jupyter.widget-view+json": {
       "model_id": "5a26c85da8004e1d9e1447461b53a8a1",
       "version_major": 2,
       "version_minor": 0
      },
      "text/plain": [
       "Creating parquet from Arrow format:   0%|          | 0/1 [00:00<?, ?ba/s]"
      ]
     },
     "metadata": {},
     "output_type": "display_data"
    },
    {
     "data": {
      "application/vnd.jupyter.widget-view+json": {
       "model_id": "09d403e1ce4f42b88970d168dd4b4e3d",
       "version_major": 2,
       "version_minor": 0
      },
      "text/plain": [
       "Uploading the dataset shards:   0%|          | 0/1 [00:00<?, ?it/s]"
      ]
     },
     "metadata": {},
     "output_type": "display_data"
    },
    {
     "data": {
      "application/vnd.jupyter.widget-view+json": {
       "model_id": "a201b292ca58425d934ae7e717ed3497",
       "version_major": 2,
       "version_minor": 0
      },
      "text/plain": [
       "Creating parquet from Arrow format:   0%|          | 0/1 [00:00<?, ?ba/s]"
      ]
     },
     "metadata": {},
     "output_type": "display_data"
    },
    {
     "data": {
      "application/vnd.jupyter.widget-view+json": {
       "model_id": "fec4fb2cfcb5411ba615f94a3f280d09",
       "version_major": 2,
       "version_minor": 0
      },
      "text/plain": [
       "README.md:   0%|          | 0.00/531 [00:00<?, ?B/s]"
      ]
     },
     "metadata": {},
     "output_type": "display_data"
    },
    {
     "data": {
      "text/plain": [
       "CommitInfo(commit_url='https://huggingface.co/datasets/shawhin/shawgpt-youtube-comments/commit/eb6e890103c25bb7f4be2d8ce541dd2b320d46f9', commit_message='Upload dataset', commit_description='', oid='eb6e890103c25bb7f4be2d8ce541dd2b320d46f9', pr_url=None, pr_revision=None, pr_num=None)"
      ]
     },
     "execution_count": 10,
     "metadata": {},
     "output_type": "execute_result"
    }
   ],
   "source": [
    "# push dataset to hub\n",
    "data.push_to_hub(\"shawhin/shawgpt-youtube-comments\")"
   ]
  },
  {
   "cell_type": "code",
   "execution_count": null,
   "id": "e8dc2fbe-9f2b-436e-b28b-b827b84fe858",
   "metadata": {},
   "outputs": [],
   "source": []
  }
 ],
 "metadata": {
  "kernelspec": {
   "display_name": "Python 3 (ipykernel)",
   "language": "python",
   "name": "python3"
  },
  "language_info": {
   "codemirror_mode": {
    "name": "ipython",
    "version": 3
   },
   "file_extension": ".py",
   "mimetype": "text/x-python",
   "name": "python",
   "nbconvert_exporter": "python",
   "pygments_lexer": "ipython3",
   "version": "3.10.7"
  }
 },
 "nbformat": 4,
 "nbformat_minor": 5
}
